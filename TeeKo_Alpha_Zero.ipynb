{
 "cells": [
  {
   "cell_type": "code",
   "execution_count": 5,
   "id": "4d616be6",
   "metadata": {},
   "outputs": [
    {
     "data": {
      "text/plain": [
       "'1.24.3'"
      ]
     },
     "execution_count": 5,
     "metadata": {},
     "output_type": "execute_result"
    }
   ],
   "source": [
    "import numpy as np\n",
    "np.__version__"
   ]
  },
  {
   "cell_type": "code",
   "execution_count": null,
   "id": "c725ed37",
   "metadata": {},
   "outputs": [],
   "source": [
    "class Move:\n",
    "    def __init__(self, from_x, from_y, to_x, to_y):\n",
    "        self.from_x = from_x\n",
    "        self.from_y = from_y\n",
    "        self.to_x = to_x\n",
    "        self.to_y = to_y"
   ]
  },
  {
   "cell_type": "code",
   "execution_count": null,
   "id": "3a099b00",
   "metadata": {},
   "outputs": [],
   "source": [
    "class TeeKo:\n",
    "    def __init__(self):\n",
    "        self.row_count = 5\n",
    "        self.column_count = 5\n",
    "        self.action_size = 25\n",
    "        self.current_player = '1'\n",
    "        \n",
    "        \n",
    "    def get_initial_state(self):\n",
    "        return np.zeros((self.row_count, self.column_count))\n",
    "    \n",
    "    def get_next_state(self, state, move):\n",
    "        if from_x == -1 and from_y == -1:\n",
    "            # New piece placement\n",
    "            if self.board[to_y, to_x] state[move.to_x] == 0:\n",
    "                self.board[to_y, to_x] = self.current_player\n",
    "        else:\n",
    "            # Moving an existing piece\n",
    "            if self.board[from_y, from_x] == self.current_player and self.board[to_y, to_x] == 0:\n",
    "                self.board[from_y, from_x] = 0\n",
    "                self.board[to_y, to_x] = self.current_player\n",
    "\n",
    "        # Switch players\n",
    "        self.current_player = 3 - self.current_player"
   ]
  }
 ],
 "metadata": {
  "kernelspec": {
   "display_name": "Python 3 (ipykernel)",
   "language": "python",
   "name": "python3"
  },
  "language_info": {
   "codemirror_mode": {
    "name": "ipython",
    "version": 3
   },
   "file_extension": ".py",
   "mimetype": "text/x-python",
   "name": "python",
   "nbconvert_exporter": "python",
   "pygments_lexer": "ipython3",
   "version": "3.11.5"
  }
 },
 "nbformat": 4,
 "nbformat_minor": 5
}
